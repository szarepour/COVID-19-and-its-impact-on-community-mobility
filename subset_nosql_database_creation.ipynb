{
 "cells": [
  {
   "cell_type": "code",
   "execution_count": null,
   "metadata": {},
   "outputs": [],
   "source": [
    "import pandas as pd\n",
    "import pymongo\n",
    "from pymongo import MongoClient\n",
    "import json\n",
    "\n",
    "def import_data(csv_path, db_name, collection_name):\n",
    "\n",
    "    \"\"\" Read CSV file \n",
    "        Convert data to JSON strings\n",
    "        Load it into MongoDB as a collection \n",
    "    \"\"\"\n",
    "    client = MongoClient()\n",
    "    db = client[db_name]\n",
    "        #connecting to a DB in mongoDB\n",
    "    try:\n",
    "        collection  = db[collection_name]\n",
    "        data = pd.read_csv(csv_path)\n",
    "        payload = json.loads(data.to_json(orient='records'))\n",
    "        collection.insert_many(payload)\n",
    "        client.close()\n",
    "        print('data is imported successfully.')\n",
    "    except:\n",
    "        print(\"Please check your connection\")"
   ]
  },
  {
   "cell_type": "code",
   "execution_count": null,
   "metadata": {},
   "outputs": [],
   "source": [
    "import_data('BNE_dataset.csv', 'mobility_db', 'Brisbane')"
   ]
  },
  {
   "cell_type": "code",
   "execution_count": null,
   "metadata": {},
   "outputs": [],
   "source": [
    "import_data('SYD_dataset.csv', 'mobility_db', 'Sydney')"
   ]
  },
  {
   "cell_type": "code",
   "execution_count": null,
   "metadata": {},
   "outputs": [],
   "source": [
    "import_data('MEL_dataset.csv', 'mobility_db', 'Melbourne')"
   ]
  },
  {
   "cell_type": "code",
   "execution_count": null,
   "metadata": {},
   "outputs": [],
   "source": []
  }
 ],
 "metadata": {
  "kernelspec": {
   "display_name": "Python 3 (ipykernel)",
   "language": "python",
   "name": "python3"
  },
  "language_info": {
   "codemirror_mode": {
    "name": "ipython",
    "version": 3
   },
   "file_extension": ".py",
   "mimetype": "text/x-python",
   "name": "python",
   "nbconvert_exporter": "python",
   "pygments_lexer": "ipython3",
   "version": "3.9.13"
  }
 },
 "nbformat": 4,
 "nbformat_minor": 4
}
