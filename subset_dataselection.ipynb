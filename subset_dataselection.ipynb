{
 "cells": [
  {
   "cell_type": "code",
   "execution_count": null,
   "metadata": {},
   "outputs": [],
   "source": [
    "# import pandas library\n",
    "import pandas as pd\n",
    "# read data\n",
    "df = pd.read_csv('data.csv')\n",
    "# selece subsets of data for Brisbane, Sydney and Melbourne\n",
    "BNE_dataset = df.loc[df['sub_region_2'] == 'Brisbane City']\n",
    "SYD_dataset = df.loc[df['sub_region_2'] == 'Council of the City of Sydney']\n",
    "MEL_dataset = df.loc[df['sub_region_2'] == 'Melbourne City']"
   ]
  },
  {
   "cell_type": "code",
   "execution_count": null,
   "metadata": {},
   "outputs": [],
   "source": [
    "# show 5 rows of the dataframe\n",
    "BNE_dataset.head()"
   ]
  },
  {
   "cell_type": "code",
   "execution_count": null,
   "metadata": {},
   "outputs": [],
   "source": [
    "# print the full summary\n",
    "BNE_dataset.info()"
   ]
  },
  {
   "cell_type": "code",
   "execution_count": null,
   "metadata": {},
   "outputs": [],
   "source": [
    "# remove three columns that have any NaN values  : metro_area, iso_3166_2_code and census_fips_code\n",
    "BNE_dataset = BNE_dataset.drop(['metro_area', 'iso_3166_2_code','census_fips_code'], axis=1)"
   ]
  },
  {
   "cell_type": "code",
   "execution_count": null,
   "metadata": {},
   "outputs": [],
   "source": [
    "# save to csv\n",
    "BNE_dataset.to_csv('BNE_dataset.csv')"
   ]
  },
  {
   "cell_type": "code",
   "execution_count": null,
   "metadata": {},
   "outputs": [],
   "source": [
    "# show 5 rows of the dataframe\n",
    "SYD_dataset.head()"
   ]
  },
  {
   "cell_type": "code",
   "execution_count": null,
   "metadata": {},
   "outputs": [],
   "source": [
    "# print the full summary\n",
    "SYD_dataset.info()"
   ]
  },
  {
   "cell_type": "code",
   "execution_count": null,
   "metadata": {},
   "outputs": [],
   "source": [
    "# remove three columns that have any NaN values  : metro_area, iso_3166_2_code and census_fips_code\n",
    "SYD_dataset = SYD_dataset.drop(['metro_area', 'iso_3166_2_code','census_fips_code'], axis=1) "
   ]
  },
  {
   "cell_type": "code",
   "execution_count": null,
   "metadata": {},
   "outputs": [],
   "source": [
    "# save to csv\n",
    "SYD_dataset.to_csv('SYD_dataset.csv')"
   ]
  },
  {
   "cell_type": "code",
   "execution_count": null,
   "metadata": {},
   "outputs": [],
   "source": [
    "# show 5 rows of the dataframe\n",
    "MEL_dataset.head()"
   ]
  },
  {
   "cell_type": "code",
   "execution_count": null,
   "metadata": {},
   "outputs": [],
   "source": [
    "# print the full summary\n",
    "MEL_dataset.info()"
   ]
  },
  {
   "cell_type": "code",
   "execution_count": null,
   "metadata": {},
   "outputs": [],
   "source": [
    "# remove three columns that have any NaN values  : metro_area, iso_3166_2_code and census_fips_code\n",
    "MEL_dataset = MEL_dataset.drop(['metro_area', 'iso_3166_2_code','census_fips_code'], axis=1) "
   ]
  },
  {
   "cell_type": "code",
   "execution_count": null,
   "metadata": {},
   "outputs": [],
   "source": [
    "# save to csv\n",
    "MEL_dataset.to_csv('MEL_dataset.csv')"
   ]
  }
 ],
 "metadata": {
  "kernelspec": {
   "display_name": "Python 3 (ipykernel)",
   "language": "python",
   "name": "python3"
  },
  "language_info": {
   "codemirror_mode": {
    "name": "ipython",
    "version": 3
   },
   "file_extension": ".py",
   "mimetype": "text/x-python",
   "name": "python",
   "nbconvert_exporter": "python",
   "pygments_lexer": "ipython3",
   "version": "3.9.13"
  }
 },
 "nbformat": 4,
 "nbformat_minor": 4
}
