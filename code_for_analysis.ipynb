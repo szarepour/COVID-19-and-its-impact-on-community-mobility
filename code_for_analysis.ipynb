{
 "cells": [
  {
   "cell_type": "code",
   "execution_count": null,
   "metadata": {},
   "outputs": [],
   "source": [
    "# import libraries\n",
    "import pandas as pd\n",
    "import matplotlib.pyplot as plt\n",
    "from matplotlib.dates import MonthLocator, DateFormatter\n",
    "import pymongo\n",
    "from pymongo import MongoClient\n",
    "%matplotlib inline\n",
    "\n",
    "def city_dataset(city):\n",
    "    \"\"\"\n",
    "    read data from MongoDB\n",
    "    converts six \"percent_change_from_baseline\" columns from object type to float, to plot properly.  \n",
    "    \"\"\"\n",
    "    \n",
    "    # establishing connection to the database\n",
    "    client = MongoClient()\n",
    "    # Database name \n",
    "    db = client['mobility_db']\n",
    "    # get collection name\n",
    "    collection = db[city]\n",
    "    # convert entire collection to Pandas dataframe\n",
    "    df = pd.DataFrame(list(collection.find()))\n",
    "    return df   \n",
    "\n",
    "def features_to_plot(col, city):\n",
    "    \"\"\"\n",
    "    Plot selected \"percent_change_from_baseline\" variables against date from 15-02-2021 to 01-12-2021. \n",
    "    \"\"\"\n",
    "    # select the required columns to plot\n",
    "    features = city_dataset(city).iloc[:, 6:12]\n",
    "    y, x = features[col], features['date']\n",
    "    fig, ax = plt.subplots(figsize=(20 ,12))\n",
    "    ax.plot(x, y, color='r')\n",
    "    \n",
    "    # show all 12 month in x axis\n",
    "    ax.xaxis.set_major_locator(MonthLocator())\n",
    "    ax.xaxis.set_major_formatter(DateFormatter('%b'))\n",
    "\n",
    "    ax.set_ylabel('Percent Change From Baseline', fontstyle='italic', fontsize='14')\n",
    "    ax.set_title(label = 'Transit Stations Percent Change From Baseline in ' + city, fontstyle='italic', fontsize='14')\n",
    "    plt.show()"
   ]
  },
  {
   "cell_type": "code",
   "execution_count": null,
   "metadata": {},
   "outputs": [],
   "source": [
    "features_to_plot('transit_stations_percent_change_from_baseline' , 'Melbourne')"
   ]
  },
  {
   "cell_type": "code",
   "execution_count": null,
   "metadata": {},
   "outputs": [],
   "source": [
    "features_to_plot('transit_stations_percent_change_from_baseline' , 'Sydney')"
   ]
  },
  {
   "cell_type": "code",
   "execution_count": null,
   "metadata": {},
   "outputs": [],
   "source": [
    "features_to_plot('transit_stations_percent_change_from_baseline' , 'Brisbane')"
   ]
  },
  {
   "cell_type": "code",
   "execution_count": null,
   "metadata": {},
   "outputs": [],
   "source": []
  },
  {
   "cell_type": "code",
   "execution_count": null,
   "metadata": {},
   "outputs": [],
   "source": []
  }
 ],
 "metadata": {
  "kernelspec": {
   "display_name": "Python 3 (ipykernel)",
   "language": "python",
   "name": "python3"
  },
  "language_info": {
   "codemirror_mode": {
    "name": "ipython",
    "version": 3
   },
   "file_extension": ".py",
   "mimetype": "text/x-python",
   "name": "python",
   "nbconvert_exporter": "python",
   "pygments_lexer": "ipython3",
   "version": "3.9.13"
  }
 },
 "nbformat": 4,
 "nbformat_minor": 4
}
